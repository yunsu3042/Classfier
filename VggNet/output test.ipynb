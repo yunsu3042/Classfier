{
 "cells": [
  {
   "cell_type": "code",
   "execution_count": null,
   "metadata": {
    "collapsed": true
   },
   "outputs": [],
   "source": [
    "import sys\n",
    "import tensorflow as tf\n",
    "import tools\n",
    "import numpy as np\n",
    "import vgg\n",
    "import argparse\n",
    "from skimage.transform import resize\n",
    "from skimage.io import imread\n",
    "\n",
    "G = tf.Graph()\n",
    "with G.as_default():\n",
    "    images = tf.placeholder(\"float\", [1, 224, 224, 3])\n",
    "    logits = vgg.build(images, n_classes=17, training=False)\n",
    "    probs = tf.nn.softmax(logits)\n",
    "\n",
    "def predict(im):\n",
    "    labels = [\"뷰티\", \"자동차_공구\", \"의류\", \"컴퓨터\", \"반려동물\", \"취미\", \"식품\", \"건강\",\n",
    "              \"도서_문구\", \"스포츠_레저\", \"디지털\", \"가구_인테리어\", \"가전\", \"생필품_주방\"\n",
    "               , \"잡화\",\"여행_e쿠폰\", \"출산_육아\"]\n",
    "    \n",
    "    if im.shape != (224, 224, 3):\n",
    "        im = resize(im, (224, 224))\n",
    "    im = np.expand_dims(im, 0)\n",
    "    sess = tf.get_default_session()\n",
    "    results = sess.run(probs, {images: im})\n",
    "    return labels[np.argmax(results)]\n",
    "\n",
    "if __name__ == '__main__':\n",
    "    parser = argparse.ArgumentParser()\n",
    "    parser.add_argument(\"-w\", \"--weights\", required=True, help=\"path to weights.npz file\")\n",
    "    parser.add_argument(\"image\", help=\"path to jpg image\")\n",
    "    args = parser.parse_args()\n",
    "    im = imread(args.image)\n",
    "    sess = tf.Session(graph=G)\n",
    "    with sess.as_default():\n",
    "        tools.load_weights(G, args.weights)\n",
    "        print(predict(im))"
   ]
  },
  {
   "cell_type": "code",
   "execution_count": null,
   "metadata": {
    "collapsed": true
   },
   "outputs": [],
   "source": []
  },
  {
   "cell_type": "code",
   "execution_count": null,
   "metadata": {
    "collapsed": true
   },
   "outputs": [],
   "source": []
  },
  {
   "cell_type": "code",
   "execution_count": null,
   "metadata": {
    "collapsed": true
   },
   "outputs": [],
   "source": []
  }
 ],
 "metadata": {
  "kernelspec": {
   "display_name": "Python 3",
   "language": "python",
   "name": "python3"
  },
  "language_info": {
   "codemirror_mode": {
    "name": "ipython",
    "version": 3
   },
   "file_extension": ".py",
   "mimetype": "text/x-python",
   "name": "python",
   "nbconvert_exporter": "python",
   "pygments_lexer": "ipython3",
   "version": "3.4.3"
  }
 },
 "nbformat": 4,
 "nbformat_minor": 1
}
