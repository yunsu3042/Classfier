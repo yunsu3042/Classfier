{
 "cells": [
  {
   "cell_type": "code",
   "execution_count": 1,
   "metadata": {
    "collapsed": false
   },
   "outputs": [
    {
     "data": {
      "text/plain": [
       "'/home/yunsoo/mysite-projects/soma'"
      ]
     },
     "execution_count": 1,
     "metadata": {},
     "output_type": "execute_result"
    }
   ],
   "source": [
    "pwd"
   ]
  },
  {
   "cell_type": "code",
   "execution_count": 2,
   "metadata": {
    "collapsed": true
   },
   "outputs": [],
   "source": [
    "import os"
   ]
  },
  {
   "cell_type": "code",
   "execution_count": 31,
   "metadata": {
    "collapsed": false
   },
   "outputs": [],
   "source": [
    "with open(\"vgg_train\", 'w') as f:\n",
    "    root = '/home/yunsoo/mysite-projects/soma/train/'\n",
    "    for dir in os.listdir(root):\n",
    "        for file in os.listdir(root + dir):\n",
    "    #         pid = os.path.split(file)[0]\n",
    "            path = root + str(dir) + \"/\"+ file\n",
    "            file_name = os.path.splitext(file)[0]\n",
    "            f.write(file_name + \"\\t\" + path + \"\\n\")\n",
    "    f.close()"
   ]
  },
  {
   "cell_type": "code",
   "execution_count": 32,
   "metadata": {
    "collapsed": false
   },
   "outputs": [],
   "source": [
    "with open(\"vgg_val\", 'w') as f:\n",
    "    root = '/home/yunsoo/mysite-projects/soma/val/'\n",
    "    for dir in os.listdir(root):\n",
    "        for file in os.listdir(root + dir):\n",
    "    #         pid = os.path.split(file)[0]\n",
    "            path = root + str(dir) + \"/\"+ file\n",
    "            file_name = os.path.splitext(file)[0]\n",
    "            f.write(file_name + \"\\t\" + path + \"\\n\")\n",
    "    f.close()"
   ]
  },
  {
   "cell_type": "code",
   "execution_count": 33,
   "metadata": {
    "collapsed": true
   },
   "outputs": [],
   "source": [
    "with open(\"vgg_mode_test\", 'w') as f:\n",
    "    root = '/home/yunsoo/mysite-projects/soma/mode_test/'\n",
    "    for dir in os.listdir(root):\n",
    "        for file in os.listdir(root + dir):\n",
    "    #         pid = os.path.split(file)[0]\n",
    "            path = root + str(dir) + \"/\"+ file\n",
    "            file_name = os.path.splitext(file)[0]\n",
    "            f.write(file_name + \"\\t\" + path + \"\\n\")\n",
    "    f.close()"
   ]
  },
  {
   "cell_type": "code",
   "execution_count": 35,
   "metadata": {
    "collapsed": false
   },
   "outputs": [],
   "source": [
    "with open(\"vgg_mode_val\", 'w') as f:\n",
    "    root = '/home/yunsoo/mysite-projects/soma/mode_val/'\n",
    "    for dir in os.listdir(root):\n",
    "        for file in os.listdir(root + dir):\n",
    "    #         pid = os.path.split(file)[0]\n",
    "            path = root + str(dir) + \"/\"+ file\n",
    "            file_name = os.path.splitext(file)[0]\n",
    "            f.write(file_name + \"\\t\" + path + \"\\n\")\n",
    "    f.close()"
   ]
  },
  {
   "cell_type": "code",
   "execution_count": null,
   "metadata": {
    "collapsed": true
   },
   "outputs": [],
   "source": []
  }
 ],
 "metadata": {
  "kernelspec": {
   "display_name": "Python 3",
   "language": "python",
   "name": "python3"
  },
  "language_info": {
   "codemirror_mode": {
    "name": "ipython",
    "version": 3
   },
   "file_extension": ".py",
   "mimetype": "text/x-python",
   "name": "python",
   "nbconvert_exporter": "python",
   "pygments_lexer": "ipython3",
   "version": "3.4.3"
  }
 },
 "nbformat": 4,
 "nbformat_minor": 1
}
