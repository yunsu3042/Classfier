{
 "cells": [
  {
   "cell_type": "code",
   "execution_count": 2,
   "metadata": {
    "collapsed": true
   },
   "outputs": [],
   "source": [
    "from konlpy.tag import Kkma\n",
    "from konlpy.corpus import kolaw\n",
    "from konlpy.utils import pprint\n",
    "from nltk import collocations"
   ]
  },
  {
   "cell_type": "code",
   "execution_count": 3,
   "metadata": {
    "collapsed": true
   },
   "outputs": [],
   "source": [
    "def to_bigram(data):\n",
    "    word_list = []\n",
    "    bigram_measures = collocations.BigramAssocMeasures()\n",
    "    data_names = list(map(lambda i : i[1], data))\n",
    "    for i, data_name in enumerate(data_names):\n",
    "        bigram_measures = collocations.BigramAssocMeasures()\n",
    "        doc = data_name\n",
    "        pos = Kkma().pos(doc)\n",
    "        words = [s for s, t in pos]\n",
    "        words = list(filter(lambda x: len(x) >= 2, words))\n",
    "        word_list.append(tuple(words))\n",
    "#         data[i][1] = words\n",
    "    return word_list"
   ]
  },
  {
   "cell_type": "markdown",
   "metadata": {},
   "source": [
    "# 명사추출"
   ]
  },
  {
   "cell_type": "code",
   "execution_count": 4,
   "metadata": {
    "collapsed": false
   },
   "outputs": [
    {
     "ename": "NameError",
     "evalue": "name 'X_train' is not defined",
     "output_type": "error",
     "traceback": [
      "\u001b[0;31m---------------------------------------------------------------------------\u001b[0m",
      "\u001b[0;31mNameError\u001b[0m                                 Traceback (most recent call last)",
      "\u001b[0;32m<ipython-input-4-933d3f0fcc96>\u001b[0m in \u001b[0;36m<module>\u001b[0;34m()\u001b[0m\n\u001b[1;32m      1\u001b[0m \u001b[0mkkma\u001b[0m \u001b[0;34m=\u001b[0m \u001b[0mKkma\u001b[0m\u001b[0;34m(\u001b[0m\u001b[0;34m)\u001b[0m\u001b[0;34m\u001b[0m\u001b[0m\n\u001b[0;32m----> 2\u001b[0;31m \u001b[0mpprint\u001b[0m \u001b[0;34m(\u001b[0m\u001b[0mkkma\u001b[0m\u001b[0;34m.\u001b[0m\u001b[0mnouns\u001b[0m\u001b[0;34m(\u001b[0m\u001b[0mX_train\u001b[0m\u001b[0;34m[\u001b[0m\u001b[0;36m0\u001b[0m\u001b[0;34m]\u001b[0m\u001b[0;34m[\u001b[0m\u001b[0;36m1\u001b[0m\u001b[0;34m]\u001b[0m\u001b[0;34m)\u001b[0m\u001b[0;34m)\u001b[0m\u001b[0;34m\u001b[0m\u001b[0m\n\u001b[0m",
      "\u001b[0;31mNameError\u001b[0m: name 'X_train' is not defined"
     ]
    }
   ],
   "source": [
    "kkma = Kkma()\n",
    "pprint (kkma.nouns(X_train[0][1]))"
   ]
  },
  {
   "cell_type": "code",
   "execution_count": null,
   "metadata": {
    "collapsed": true
   },
   "outputs": [],
   "source": []
  },
  {
   "cell_type": "code",
   "execution_count": null,
   "metadata": {
    "collapsed": true
   },
   "outputs": [],
   "source": [
    "X_train, X_test , y_train, y_test = train_test_split(x_text_list, y_list, test_size=0.2, random_state=42)\n",
    "\n",
    "for c in [1,5,10]:\n",
    "    clf = LinearSVC(C=c)\n",
    "    X_train_text = map(lambda i : i[1],X_train)\n",
    "    clf.fit(vectorizer.transform(X_train_text), y_train)\n",
    "    print (c,clf.score(vectorizer.transform(map(lambda i : i[1],X_test)), y_test))\n",
    "    \n",
    "    \n",
    "test_x_text_list = []\n",
    "with open(\"soma8_test_data.dat\",encoding=enc) as fin:\n",
    "    for line in fin.readlines():\n",
    "        info = json.loads(line.strip())\n",
    "        test_x_text_list.append((info['pid'],info['name']))\n",
    "pred_list = clf.predict(vectorizer.transform(extract_noun(test_x_text_list)))\n"
   ]
  },
  {
   "cell_type": "code",
   "execution_count": null,
   "metadata": {
    "collapsed": true
   },
   "outputs": [],
   "source": [
    "import requests\n",
    "name='정윤수'\n",
    "nickname='시베리아'\n",
    "mode='test'\n",
    "param = {'pred_list':\",\".join(map(lambda i : str(int(i)),pred_list.tolist())),\n",
    "         'name':name,'nickname':nickname,'mode':mode}\n",
    "d = requests.post('http://eval.buzzni.net:20001/eval',data=param)\n",
    "\n",
    "print (d.json())\n"
   ]
  },
  {
   "cell_type": "code",
   "execution_count": null,
   "metadata": {
    "collapsed": true
   },
   "outputs": [],
   "source": [
    "pid_img_feature_dict = {}\n",
    "with open(\"refined_category_dataset.img_feature.dat\") as fin:\n",
    "    for idx,line in enumerate(fin):\n",
    "        if idx%100 == 0:\n",
    "            print(idx)\n",
    "        pid, img_feature_str = line.strip().split(\" \")\n",
    "        img_feature = (np.asarray(list(map(lambda i : float(i),img_feature_str.split(\",\")))))\n",
    "        pid_img_feature_dict[pid] = img_feature\n",
    "#         print (line)\n",
    "#         break\n",
    "\n",
    "img_feature_list = []\n",
    "for pid, name in X_train:\n",
    "#     print(pid, name)\n",
    "    if pid in pid_img_feature_dict:\n",
    "        img_feature_list.append(pid_img_feature_dict[pid])\n",
    "#         print (len(pid_img_feature_dict[pid]),type(pid_img_feature_dict[pid]))\n",
    "#         break\n",
    "    else:\n",
    "        img_feature_list.append(np.zeros(1000))\n",
    "#     break\n",
    "\n",
    "img_feature_test_list = []\n",
    "for pid, name in X_test:\n",
    "    if pid in pid_img_feature_dict:\n",
    "        img_feature_test_list.append(pid_img_feature_dict[pid])\n",
    "    else:\n",
    "        img_feature_test_list.append(np.zeros(1000))\n"
   ]
  },
  {
   "cell_type": "code",
   "execution_count": null,
   "metadata": {
    "collapsed": true
   },
   "outputs": [],
   "source": [
    "concat_x_train_list = sparse.hstack((vectorizer.transform(X_train_noun), img_feature_list))\n",
    "concat_test_x_list = sparse.hstack((vectorizer.transform(X_test_noun), img_feature_test_list))\n",
    "\n"
   ]
  },
  {
   "cell_type": "code",
   "execution_count": null,
   "metadata": {
    "collapsed": true
   },
   "outputs": [],
   "source": [
    "for i in range(1,25):\n",
    "    c = 0.01 + (i / 100)\n",
    "    clf2 = LinearSVC(C=c)\n",
    "    clf2.fit(concat_x_train_list, y_train)\n",
    "    print (c,clf2.score(concat_test_x_list, y_test))\n"
   ]
  },
  {
   "cell_type": "code",
   "execution_count": null,
   "metadata": {
    "collapsed": true
   },
   "outputs": [],
   "source": [
    "pid_img_feature_eval_dict = {}\n",
    "with open(\"refined_category_dataset.img_feature.eval.dat\") as fin:\n",
    "    for idx,line in enumerate(fin):\n",
    "        if idx%100 == 0:\n",
    "            print(idx)\n",
    "        pid, img_feature_str = line.strip().split(\" \")\n",
    "        img_feature = (np.asarray(list(map(lambda i : float(i),img_feature_str.split(\",\")))))\n",
    "        pid_img_feature_eval_dict[pid] = img_feature\n",
    "#         print (line)\n",
    "#         break\n",
    "\n",
    "\n",
    "# pred_list = clf.predict(vectorizer.transform(map(lambda i : i[1],eval_x_text_list)))\n",
    "img_feature_eval_list = []\n",
    "for pid, name in test_x_text_list:\n",
    "    if pid in pid_img_feature_eval_dict:\n",
    "        img_feature_eval_list.append(pid_img_feature_eval_dict[pid])\n",
    "    else:\n",
    "        img_feature_eval_list.append(np.zeros(1000))\n",
    "\n",
    "concat_test_x_list = sparse.hstack((x_feature_list, img_feature_eval_list),format='csr')\n",
    "\n",
    "pred_list = clf2.predict(concat_test_x_list)"
   ]
  }
 ],
 "metadata": {
  "kernelspec": {
   "display_name": "Python 3",
   "language": "python",
   "name": "python3"
  },
  "language_info": {
   "codemirror_mode": {
    "name": "ipython",
    "version": 3
   },
   "file_extension": ".py",
   "mimetype": "text/x-python",
   "name": "python",
   "nbconvert_exporter": "python",
   "pygments_lexer": "ipython3",
   "version": "3.4.3"
  }
 },
 "nbformat": 4,
 "nbformat_minor": 1
}
