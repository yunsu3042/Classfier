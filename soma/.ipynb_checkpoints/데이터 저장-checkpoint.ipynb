{
 "cells": [
  {
   "cell_type": "code",
   "execution_count": 11,
   "metadata": {
    "collapsed": true
   },
   "outputs": [],
   "source": [
    "from konlpy.tag import Kkma, Twitter\n",
    "from konlpy.corpus import kolaw\n",
    "from konlpy.utils import pprint\n",
    "from nltk import collocations\n",
    "\n",
    "def hop(datas):\n",
    "    kkma = Kkma()\n",
    "    twit = Twitter()\n",
    "    word_list = []\n",
    "    for data in datas:\n",
    "        line = kkma.nouns(data[1])\n",
    "        line2 = twit.nouns(data[1])\n",
    "        line = line + line2\n",
    "        line = \" \".join(line)\n",
    "        word_list.append(line)\n",
    "    return word_list"
   ]
  },
  {
   "cell_type": "code",
   "execution_count": 38,
   "metadata": {
    "collapsed": false
   },
   "outputs": [],
   "source": [
    "import sys, json\n",
    "from sklearn.externals import  joblib\n",
    "from sklearn.grid_search import GridSearchCV\n",
    "from sklearn.svm import  LinearSVC\n",
    "from sklearn.linear_model import LogisticRegression\n",
    "from sklearn.feature_extraction.text import  TfidfVectorizer,CountVectorizer\n",
    "import os\n",
    "import numpy as np\n",
    "import string\n",
    "# from keras import backend\n",
    "# from keras.layers import Dense, Input, Lambda, LSTM, TimeDistributed\n",
    "# from keras.layers.merge import concatenate\n",
    "# from keras.layers.embeddings import Embedding\n",
    "# from keras.models import Model\n",
    "\n",
    "from sklearn.model_selection import train_test_split\n"
   ]
  },
  {
   "cell_type": "code",
   "execution_count": 41,
   "metadata": {
    "collapsed": true
   },
   "outputs": [],
   "source": [
    "y_name_id_dict = {'건강': 7, '취미': 5, '의류': 2, '여행/e쿠폰': 15, '스포츠/레저': 9, '도서/문구': 8, '뷰티': 0, '가전': 12, '컴퓨터': 3, '식품': 6, '반려동물': 4, '자동차/공구': 1, '가구/인테리어': 11, '출산/육아': 16, '잡화': 14, '디지털': 10, '생필품/주방': 13}"
   ]
  },
  {
   "cell_type": "code",
   "execution_count": 43,
   "metadata": {
    "collapsed": false
   },
   "outputs": [],
   "source": [
    "y_id_list = [y_name_id_dict[x] for x in y_text_list]\n",
    "from sklearn.model_selection import train_test_split\n",
    "\n",
    "vectorizer = CountVectorizer()\n",
    "y_list = [y_name_id_dict[x] for x in y_text_list]\n"
   ]
  },
  {
   "cell_type": "code",
   "execution_count": 44,
   "metadata": {
    "collapsed": true
   },
   "outputs": [],
   "source": [
    "x_text_list = []\n",
    "y_text_list = []\n",
    "enc = sys.getdefaultencoding()\n",
    "with open(\"refined_category_dataset.dat\",encoding=enc) as fin:\n",
    "    for line in fin.readlines():\n",
    "#         print (line)\n",
    "        info = json.loads(line.strip())\n",
    "        x_text_list.append((info['pid'],info['name']))\n",
    "        y_text_list.append(info['cate'])\n",
    "        "
   ]
  },
  {
   "cell_type": "code",
   "execution_count": 45,
   "metadata": {
    "collapsed": false
   },
   "outputs": [],
   "source": [
    "X_train, X_test , y_train, y_test = train_test_split(x_text_list, y_list, test_size=0.2, random_state=42)\n"
   ]
  },
  {
   "cell_type": "code",
   "execution_count": 48,
   "metadata": {
    "collapsed": true
   },
   "outputs": [],
   "source": [
    "def find_key(variable):\n",
    "    for key, val in y_name_id_dict.items():\n",
    "        if val == variable:\n",
    "            return key"
   ]
  },
  {
   "cell_type": "code",
   "execution_count": 54,
   "metadata": {
    "collapsed": false
   },
   "outputs": [],
   "source": [
    "line_list = []\n",
    "for i, data in enumerate(X_train):\n",
    "    line = kkma.nouns(data[1])\n",
    "    line2 = twit.nouns(data[1])\n",
    "    line = line + line2\n",
    "    line = \" \".join(line) \n",
    "    line = line.replace(\",\", \" \")\n",
    "    line += \",\" + find_key(y_train[i])  +\"\\n\"\n",
    "    line_list.append(line)\n",
    "line_list = \" \".join(line_list)\n",
    "kkma = Kkma()\n",
    "twit = Twitter()\n",
    "with open(\"dataset/kkk.train\", 'w') as f:\n",
    "        f.write(line_list )\n",
    "f.close()"
   ]
  },
  {
   "cell_type": "code",
   "execution_count": 32,
   "metadata": {
    "collapsed": false
   },
   "outputs": [],
   "source": [
    "test_x_text_list = []\n",
    "with open(\"soma8_test_data.dat\",encoding=enc) as fin:\n",
    "    for line in fin.readlines():\n",
    "        info = json.loads(line.strip())\n",
    "        test_x_text_list.append((info['pid'],info['name']))\n",
    "\n",
    "# pred_list = clf.predict(vectorizer.transform(map(lambda i : i[1],eval_x_text_list)))"
   ]
  },
  {
   "cell_type": "code",
   "execution_count": 14,
   "metadata": {
    "collapsed": false
   },
   "outputs": [],
   "source": [
    "eval_x_text_list = []\n",
    "with open(\"soma8_eval_data.dat\",encoding=enc) as fin:\n",
    "    for line in fin.readlines():\n",
    "        info = json.loads(line.strip())\n",
    "        eval_x_text_list.append((info['pid'],info['name']))\n",
    "\n",
    "# pred_list = clf.predict(vectorizer.transform(map(lambda i : i[1],eval_x_text_list)))"
   ]
  },
  {
   "cell_type": "code",
   "execution_count": 33,
   "metadata": {
    "collapsed": true
   },
   "outputs": [],
   "source": [
    "line_list = []\n",
    "for data in test_x_text_list:\n",
    "    line = kkma.nouns(data[1])\n",
    "    line2 = twit.nouns(data[1])\n",
    "    line = line + line2\n",
    "    line = \" \".join(line) + \"\\n\"\n",
    "    line_list.append(line)"
   ]
  },
  {
   "cell_type": "code",
   "execution_count": 34,
   "metadata": {
    "collapsed": false
   },
   "outputs": [],
   "source": [
    "line_list = \" \".join(line_list)"
   ]
  },
  {
   "cell_type": "code",
   "execution_count": 35,
   "metadata": {
    "collapsed": false
   },
   "outputs": [],
   "source": [
    "kkma = Kkma()\n",
    "twit = Twitter()\n",
    "with open(\"dataset/mode_test.kkk\", 'w') as f:\n",
    "        f.write(line_list )\n",
    "f.close()"
   ]
  },
  {
   "cell_type": "code",
   "execution_count": null,
   "metadata": {
    "collapsed": true
   },
   "outputs": [],
   "source": []
  },
  {
   "cell_type": "code",
   "execution_count": null,
   "metadata": {
    "collapsed": true
   },
   "outputs": [],
   "source": []
  }
 ],
 "metadata": {
  "kernelspec": {
   "display_name": "Python 3",
   "language": "python",
   "name": "python3"
  },
  "language_info": {
   "codemirror_mode": {
    "name": "ipython",
    "version": 3
   },
   "file_extension": ".py",
   "mimetype": "text/x-python",
   "name": "python",
   "nbconvert_exporter": "python",
   "pygments_lexer": "ipython3",
   "version": "3.4.3"
  }
 },
 "nbformat": 4,
 "nbformat_minor": 1
}
